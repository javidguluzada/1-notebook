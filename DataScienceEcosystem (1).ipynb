{
  "metadata": {
    "kernelspec": {
      "name": "python",
      "display_name": "Python (Pyodide)",
      "language": "python"
    },
    "language_info": {
      "codemirror_mode": {
        "name": "python",
        "version": 3
      },
      "file_extension": ".py",
      "mimetype": "text/x-python",
      "name": "python",
      "nbconvert_exporter": "python",
      "pygments_lexer": "ipython3",
      "version": "3.8"
    }
  },
  "nbformat_minor": 5,
  "nbformat": 4,
  "cells": [
    {
      "id": "da006967-baee-43bd-8bf0-5dd8cdc99db1",
      "cell_type": "markdown",
      "source": "# Data Science Tools and Ecosystem",
      "metadata": {}
    },
    {
      "id": "83c6a76f-bf0c-4d5c-a5b3-f26871c69d7d",
      "cell_type": "markdown",
      "source": "In this notebook, Data Science Tools and Ecosystem are summarized.",
      "metadata": {}
    },
    {
      "id": "a6f40da0-38f3-4e57-b7a7-cb06c60eb8ff",
      "cell_type": "markdown",
      "source": "Some of the popular languages that Data Scientists use are:\n1. Python\n2. R\n3. C++",
      "metadata": {}
    },
    {
      "id": "16371354-d7f0-42ca-843a-e6816782fc16",
      "cell_type": "markdown",
      "source": "Some of the commonly used libraries used by Data Scientists include:\n1. NumPy\n2. ggplot\n3. Pandas",
      "metadata": {}
    },
    {
      "id": "825f48ed-c90b-4aca-807a-3696d814b790",
      "cell_type": "markdown",
      "source": "|Data Science Tools|\n|------------------|\n|TensorFlow|\n|Apache Spark|\n|Jupyter Notebook|",
      "metadata": {}
    },
    {
      "id": "0276b6a7-12f2-4c67-bc54-fa73ce7204b8",
      "cell_type": "markdown",
      "source": "### Below are a few examples of evaluating arithmetic expressions in Python",
      "metadata": {}
    },
    {
      "id": "1606badd-6a13-4c92-a0fd-0c584d1cb464",
      "cell_type": "code",
      "source": "#  This a simple arithmetic expression to mutiply then add integers\nprint((3*4)+5)",
      "metadata": {
        "trusted": true
      },
      "outputs": [
        {
          "name": "stdout",
          "text": "17\n",
          "output_type": "stream"
        }
      ],
      "execution_count": 3
    },
    {
      "id": "707bfdb0-274e-4902-b195-38a76eb09827",
      "cell_type": "code",
      "source": "# This will convert 200 minutes to hours by diving by 60\nminutes=200\nhours = minutes//60\nremainder = minutes - hours*60\nprint(str(hours)+\" hours and \"+str(remainder)+\" minutes.\")",
      "metadata": {
        "trusted": true
      },
      "outputs": [
        {
          "name": "stdout",
          "text": "3 hours and 20 minutes.\n",
          "output_type": "stream"
        }
      ],
      "execution_count": 16
    },
    {
      "id": "ff3c4775-29fc-46c5-810a-2a1d817362e9",
      "cell_type": "markdown",
      "source": "**Objectives:** Python, R, C++, TensorFlow, Jupyter Notebook",
      "metadata": {}
    },
    {
      "id": "3179b4b5-f883-4ba6-8665-eb1486dd60fc",
      "cell_type": "markdown",
      "source": "## Author\nJavid Guluzada",
      "metadata": {}
    },
    {
      "id": "6752a815-8df0-4990-8f85-5df72af8c1c6",
      "cell_type": "code",
      "source": "",
      "metadata": {
        "trusted": true
      },
      "outputs": [],
      "execution_count": null
    }
  ]
}